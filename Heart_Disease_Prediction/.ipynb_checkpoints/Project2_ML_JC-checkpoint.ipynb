{
 "cells": [
  {
   "cell_type": "code",
   "execution_count": 2,
   "id": "fce38217",
   "metadata": {
    "scrolled": true
   },
   "outputs": [],
   "source": [
    "import pandas as pd\n",
    "import numpy as np\n",
    "import seaborn as sns\n",
    "import matplotlib.pyplot as plt\n",
    "from sklearn.model_selection import train_test_split\n",
    "from sklearn.model_selection import cross_val_score\n",
    "from sklearn.model_selection import GridSearchCV\n",
    "from sklearn.ensemble import RandomForestClassifier\n",
    "from sklearn.metrics import accuracy_score, precision_score, recall_score\n",
    "import warnings\n",
    "warnings.filterwarnings('ignore',category=FutureWarning)"
   ]
  },
  {
   "cell_type": "code",
   "execution_count": 3,
   "id": "dc379950",
   "metadata": {},
   "outputs": [],
   "source": [
    "file = r'C:\\Users\\jschu\\github\\Project2_Chung_Haraginadoni_Lu\\heart_clean.csv'\n",
    "heart = pd.read_csv(file)"
   ]
  },
  {
   "cell_type": "code",
   "execution_count": 4,
   "id": "d86bc52c",
   "metadata": {},
   "outputs": [
    {
     "name": "stdout",
     "output_type": "stream",
     "text": [
      "<class 'pandas.core.frame.DataFrame'>\n",
      "RangeIndex: 918 entries, 0 to 917\n",
      "Data columns (total 13 columns):\n",
      " #   Column          Non-Null Count  Dtype  \n",
      "---  ------          --------------  -----  \n",
      " 0   Unnamed: 0      918 non-null    int64  \n",
      " 1   Age             918 non-null    int64  \n",
      " 2   Sex             918 non-null    int64  \n",
      " 3   ChestPainType   918 non-null    int64  \n",
      " 4   RestingBP       918 non-null    float64\n",
      " 5   Cholesterol     918 non-null    float64\n",
      " 6   FastingBS       918 non-null    int64  \n",
      " 7   RestingECG      918 non-null    int64  \n",
      " 8   MaxHR           918 non-null    int64  \n",
      " 9   ExerciseAngina  918 non-null    int64  \n",
      " 10  Oldpeak         918 non-null    float64\n",
      " 11  ST_Slope        918 non-null    int64  \n",
      " 12  HeartDisease    918 non-null    int64  \n",
      "dtypes: float64(3), int64(10)\n",
      "memory usage: 93.4 KB\n"
     ]
    }
   ],
   "source": [
    "heart.info()"
   ]
  },
  {
   "cell_type": "code",
   "execution_count": 5,
   "id": "31aae692",
   "metadata": {},
   "outputs": [],
   "source": [
    "heart.drop('Unnamed: 0',axis = 1,inplace = True)"
   ]
  },
  {
   "cell_type": "code",
   "execution_count": 6,
   "id": "9d599d93",
   "metadata": {},
   "outputs": [
    {
     "name": "stdout",
     "output_type": "stream",
     "text": [
      "<class 'pandas.core.frame.DataFrame'>\n",
      "RangeIndex: 918 entries, 0 to 917\n",
      "Data columns (total 12 columns):\n",
      " #   Column          Non-Null Count  Dtype  \n",
      "---  ------          --------------  -----  \n",
      " 0   Age             918 non-null    int64  \n",
      " 1   Sex             918 non-null    int64  \n",
      " 2   ChestPainType   918 non-null    int64  \n",
      " 3   RestingBP       918 non-null    float64\n",
      " 4   Cholesterol     918 non-null    float64\n",
      " 5   FastingBS       918 non-null    int64  \n",
      " 6   RestingECG      918 non-null    int64  \n",
      " 7   MaxHR           918 non-null    int64  \n",
      " 8   ExerciseAngina  918 non-null    int64  \n",
      " 9   Oldpeak         918 non-null    float64\n",
      " 10  ST_Slope        918 non-null    int64  \n",
      " 11  HeartDisease    918 non-null    int64  \n",
      "dtypes: float64(3), int64(9)\n",
      "memory usage: 86.2 KB\n"
     ]
    }
   ],
   "source": [
    "heart.info()"
   ]
  },
  {
   "cell_type": "code",
   "execution_count": 7,
   "id": "4391c66b",
   "metadata": {},
   "outputs": [],
   "source": [
    "#Split data into different 60% training, 20% validation, 20% test data set\n",
    "\n",
    "features = heart.drop('HeartDisease',axis = 1)\n",
    "labels = heart.HeartDisease\n",
    "\n",
    "x_train,x_test,y_train,y_test = train_test_split(features,labels,test_size=0.4,random_state = 42)\n",
    "x_test,x_val,y_test,y_val = train_test_split(x_test,y_test,test_size=0.5,random_state = 42)"
   ]
  },
  {
   "cell_type": "code",
   "execution_count": 8,
   "id": "f2cbe714",
   "metadata": {},
   "outputs": [
    {
     "name": "stdout",
     "output_type": "stream",
     "text": [
      "918 550 184 184\n",
      "0.6\n",
      "0.2\n",
      "0.2\n"
     ]
    }
   ],
   "source": [
    "#Check if the test data set are split equally\n",
    "\n",
    "print(len(labels),len(y_train),len(y_val),len(y_test))\n",
    "for dataset in [y_train,y_val,y_test]:\n",
    "    print(round(len(dataset)/len(labels),2))"
   ]
  },
  {
   "cell_type": "code",
   "execution_count": 9,
   "id": "c9dbcb82",
   "metadata": {},
   "outputs": [],
   "source": [
    "#Write out data to CSV\n",
    "x_train.to_csv(r'train_features.csv',index=False)\n",
    "x_val.to_csv(r'val_features.csv',index=False)\n",
    "x_test.to_csv(r'test_features.csv',index=False)\n",
    "\n",
    "y_train.to_csv(r'train_labels.csv',index=False)\n",
    "y_val.to_csv(r'val_labels.csv',index=False)\n",
    "y_test.to_csv(r'test_labels.csv',index=False)"
   ]
  },
  {
   "cell_type": "code",
   "execution_count": 10,
   "id": "321d8c58",
   "metadata": {},
   "outputs": [],
   "source": [
    "#Import wanted features and labels\n",
    "tr_features = pd.read_csv('train_features.csv')\n",
    "tr_labels = pd.read_csv('train_labels.csv')\n",
    "\n",
    "val_features = pd.read_csv('val_features.csv')\n",
    "val_labels = pd.read_csv('val_labels.csv')\n",
    "\n",
    "ts_features = pd.read_csv('test_features.csv')\n",
    "ts_labels = pd.read_csv('test_labels.csv')"
   ]
  },
  {
   "cell_type": "code",
   "execution_count": 20,
   "id": "54b28efc",
   "metadata": {},
   "outputs": [],
   "source": [
    "#Fit the model into the RandomForestClassifier\n",
    "from sklearn import svm\n",
    "from sklearn.linear_model import LogisticRegression\n",
    "\n",
    "rf = RandomForestClassifier()\n",
    "clf = svm.SVC()\n",
    "lr = LogisticRegression(max_iter = 1000)\n",
    "scores_rf = cross_val_score(rf,tr_features,tr_labels.values.ravel(),cv=5)\n",
    "scores_clf = cross_val_score(clf,tr_features,tr_labels.values.ravel(),cv=5)\n",
    "scores_lr = cross_val_score(lr,tr_features,tr_labels.values.ravel(),cv=5)"
   ]
  },
  {
   "cell_type": "code",
   "execution_count": 39,
   "id": "5ed9797c",
   "metadata": {},
   "outputs": [
    {
     "data": {
      "text/html": [
       "<div>\n",
       "<style scoped>\n",
       "    .dataframe tbody tr th:only-of-type {\n",
       "        vertical-align: middle;\n",
       "    }\n",
       "\n",
       "    .dataframe tbody tr th {\n",
       "        vertical-align: top;\n",
       "    }\n",
       "\n",
       "    .dataframe thead th {\n",
       "        text-align: right;\n",
       "    }\n",
       "</style>\n",
       "<table border=\"1\" class=\"dataframe\">\n",
       "  <thead>\n",
       "    <tr style=\"text-align: right;\">\n",
       "      <th></th>\n",
       "      <th>CV1</th>\n",
       "      <th>CV2</th>\n",
       "      <th>CV3</th>\n",
       "      <th>CV4</th>\n",
       "      <th>CV5</th>\n",
       "      <th>Mean</th>\n",
       "    </tr>\n",
       "  </thead>\n",
       "  <tbody>\n",
       "    <tr>\n",
       "      <th>RandomForestClassifier</th>\n",
       "      <td>0.909</td>\n",
       "      <td>0.855</td>\n",
       "      <td>0.864</td>\n",
       "      <td>0.855</td>\n",
       "      <td>0.818</td>\n",
       "      <td>0.860</td>\n",
       "    </tr>\n",
       "    <tr>\n",
       "      <th>SupportVectorModel</th>\n",
       "      <td>0.745</td>\n",
       "      <td>0.700</td>\n",
       "      <td>0.682</td>\n",
       "      <td>0.700</td>\n",
       "      <td>0.609</td>\n",
       "      <td>0.687</td>\n",
       "    </tr>\n",
       "    <tr>\n",
       "      <th>LogisticRegression</th>\n",
       "      <td>0.882</td>\n",
       "      <td>0.800</td>\n",
       "      <td>0.855</td>\n",
       "      <td>0.845</td>\n",
       "      <td>0.818</td>\n",
       "      <td>0.840</td>\n",
       "    </tr>\n",
       "  </tbody>\n",
       "</table>\n",
       "</div>"
      ],
      "text/plain": [
       "                          CV1    CV2    CV3    CV4    CV5   Mean\n",
       "RandomForestClassifier  0.909  0.855  0.864  0.855  0.818  0.860\n",
       "SupportVectorModel      0.745  0.700  0.682  0.700  0.609  0.687\n",
       "LogisticRegression      0.882  0.800  0.855  0.845  0.818  0.840"
      ]
     },
     "execution_count": 39,
     "metadata": {},
     "output_type": "execute_result"
    }
   ],
   "source": [
    "model_output = pd.DataFrame(columns = ['CV1','CV2','CV3','CV4','CV5'], data = [scores_rf,scores_clf,scores_lr], index = ['RandomForestClassifier','SupportVectorModel','LogisticRegression'])\n",
    "\n",
    "model_output['Mean']=model_output.mean(axis=1)\n",
    "model_output.round(3)"
   ]
  },
  {
   "cell_type": "code",
   "execution_count": 42,
   "id": "8e800b78",
   "metadata": {},
   "outputs": [],
   "source": [
    "# Tuning Hyper Parameters for RF model\n",
    "\n",
    "def print_results(results):\n",
    "    print('BEST PARAMS: {}\\n'.format(results.best_params_))\n",
    "    \n",
    "    means = results.cv_results_['mean_test_score']\n",
    "    stds = results.cv_results_['std_test_score']\n",
    "    for mean,std,params in zip(means, stds, results.cv_results_['params']):\n",
    "        print('{} (+/-{}) for {}'.format(round(mean,3),round(std*2,3),params))"
   ]
  },
  {
   "cell_type": "code",
   "execution_count": 130,
   "id": "5e5dcc42",
   "metadata": {},
   "outputs": [
    {
     "name": "stdout",
     "output_type": "stream",
     "text": [
      "BEST PARAMS: {'max_depth': None, 'n_estimators': 100}\n",
      "\n",
      "0.813 (+/-0.082) for {'max_depth': 2, 'n_estimators': 5}\n",
      "0.845 (+/-0.06) for {'max_depth': 2, 'n_estimators': 50}\n",
      "0.847 (+/-0.052) for {'max_depth': 2, 'n_estimators': 100}\n",
      "0.84 (+/-0.061) for {'max_depth': 2, 'n_estimators': 500}\n",
      "0.822 (+/-0.091) for {'max_depth': 10, 'n_estimators': 5}\n",
      "0.86 (+/-0.068) for {'max_depth': 10, 'n_estimators': 50}\n",
      "0.862 (+/-0.042) for {'max_depth': 10, 'n_estimators': 100}\n",
      "0.86 (+/-0.037) for {'max_depth': 10, 'n_estimators': 500}\n",
      "0.813 (+/-0.036) for {'max_depth': 20, 'n_estimators': 5}\n",
      "0.862 (+/-0.044) for {'max_depth': 20, 'n_estimators': 50}\n",
      "0.853 (+/-0.047) for {'max_depth': 20, 'n_estimators': 100}\n",
      "0.858 (+/-0.047) for {'max_depth': 20, 'n_estimators': 500}\n",
      "0.818 (+/-0.073) for {'max_depth': None, 'n_estimators': 5}\n",
      "0.844 (+/-0.056) for {'max_depth': None, 'n_estimators': 50}\n",
      "0.865 (+/-0.077) for {'max_depth': None, 'n_estimators': 100}\n",
      "0.86 (+/-0.044) for {'max_depth': None, 'n_estimators': 500}\n"
     ]
    }
   ],
   "source": [
    "#n_estimator is how many decision trees needed \n",
    "#max_depth is how deep the decision trees will go\n",
    "parameters = { 'n_estimators': [5,50,100,500], 'max_depth': [2,10,20,None]}\n",
    "\n",
    "cv = GridSearchCV(rf,parameters,cv=5)\n",
    "cv.fit(tr_features,tr_labels.values.ravel())\n",
    "\n",
    "print_results(cv)"
   ]
  },
  {
   "cell_type": "code",
   "execution_count": 58,
   "id": "17f05bf9",
   "metadata": {},
   "outputs": [
    {
     "data": {
      "text/plain": [
       "[2, 2, 2, 2, 10, 10, 10, 10, 20, 20, 20, 20, None, None, None, None]"
      ]
     },
     "execution_count": 58,
     "metadata": {},
     "output_type": "execute_result"
    }
   ],
   "source": [
    "[cv.cv_results_['params'][i]['max_depth'] for i in range(0,len(cv.cv_results_['params']))]"
   ]
  },
  {
   "cell_type": "code",
   "execution_count": 62,
   "id": "aa70f7bf",
   "metadata": {},
   "outputs": [],
   "source": [
    "def show_results(cv):\n",
    "    \n",
    "    means = cv.cv_results_['mean_test_score']\n",
    "    stds = cv.cv_results_['std_test_score']\n",
    "    max_depth = [cv.cv_results_['params'][i]['max_depth'] for i in range(0,len(cv.cv_results_['params']))]\n",
    "    n_estimators = [cv.cv_results_['params'][i]['n_estimators'] for i in range(0,len(cv.cv_results_['params']))]\n",
    "    \n",
    "    collated = [[mean,std,depth,n] for mean, std, depth, n in zip(means,stds,max_depth,n_estimators)]\n",
    "    return collated\n",
    "    "
   ]
  },
  {
   "cell_type": "code",
   "execution_count": 117,
   "id": "974da2fb",
   "metadata": {},
   "outputs": [
    {
     "name": "stdout",
     "output_type": "stream",
     "text": [
      "                            mean       std\n",
      "max_depth n_estimators                    \n",
      "2.0       5             0.816364  0.042407\n",
      "          50            0.834545  0.021047\n",
      "          100           0.840000  0.036635\n",
      "          500           0.847273  0.030641\n",
      "10.0      5             0.810909  0.057611\n",
      "          50            0.843636  0.021047\n",
      "          100           0.856364  0.019413\n",
      "          500           0.858182  0.023426\n",
      "20.0      5             0.830909  0.033820\n",
      "          50            0.849091  0.021969\n",
      "          100           0.845455  0.019069\n",
      "          500           0.865455  0.021047\n",
      "NaN       5             0.798182  0.052821\n",
      "          50            0.841818  0.027333\n",
      "          100           0.847273  0.021818\n",
      "          500           0.861818  0.021047\n"
     ]
    }
   ],
   "source": [
    "GridSearchTable = pd.DataFrame(data = show_results(cv),columns = ['mean','std','max_depth','n_estimators'])\n",
    "GridSearchTable.set_index(['max_depth','n_estimators'],inplace=True)\n",
    "GridSearchTable.round(3)\n",
    "GridSearchTable.to_csv(r'test_labels.csv',index=False)\n",
    "print(GridSearchTable)"
   ]
  },
  {
   "cell_type": "code",
   "execution_count": 113,
   "id": "70e73b13",
   "metadata": {},
   "outputs": [
    {
     "data": {
      "text/plain": [
       "(0.7, 0.9)"
      ]
     },
     "execution_count": 113,
     "metadata": {},
     "output_type": "execute_result"
    },
    {
     "data": {
      "image/png": "[encoded data removed]",
      "text/plain": [
       "<Figure size 432x288 with 1 Axes>"
      ]
     },
     "metadata": {
      "needs_background": "light"
     },
     "output_type": "display_data"
    }
   ],
   "source": [
    "NewGST = GridSearchTable.reset_index()\n",
    "NewGST['Table'] = NewGST.max_depth.astype('str') + '-'+ NewGST.n_estimators.astype('str')\n",
    "NewGST = NewGST.sort_values('mean',ascending = False)\n",
    "fig, ax = plt.subplots()\n",
    "ax.bar(NewGST.Table, NewGST['mean'],yerr = NewGST['std'])\n",
    "ax.set_title(\"GridSearchTable for Optimizing Hyperparameters\")\n",
    "ax.set_ylabel(\"Mean F1 Score\")\n",
    "plt.xticks(rotation= 90)\n",
    "plt.ylim([0.7,0.9])"
   ]
  },
  {
   "cell_type": "code",
   "execution_count": 118,
   "id": "91aadd2f",
   "metadata": {},
   "outputs": [
    {
     "data": {
      "text/plain": [
       "RandomForestClassifier(max_depth=20, n_estimators=500)"
      ]
     },
     "execution_count": 118,
     "metadata": {},
     "output_type": "execute_result"
    }
   ],
   "source": [
    "#Pick best hyperparameters from above and work on validation and test dataset\n",
    "\n",
    "rf1 = RandomForestClassifier(n_estimators = 500 , max_depth = 10)\n",
    "rf1.fit(tr_features,tr_labels.values.ravel())\n",
    "\n",
    "rf2 = RandomForestClassifier(n_estimators = 500 , max_depth = None)\n",
    "rf2.fit(tr_features,tr_labels.values.ravel())\n",
    "\n",
    "rf3 = RandomForestClassifier(n_estimators = 500 , max_depth = 20)\n",
    "rf3.fit(tr_features,tr_labels.values.ravel())"
   ]
  },
  {
   "cell_type": "code",
   "execution_count": 122,
   "id": "6e2ea98e",
   "metadata": {},
   "outputs": [
    {
     "name": "stdout",
     "output_type": "stream",
     "text": [
      "MAX DEPTH: 10 / # of EST: 500 -- A: 0.87 / P: 0.92 / R: 0.852\n",
      "MAX DEPTH: None / # of EST: 500 -- A: 0.864 / P: 0.919 / R: 0.843\n",
      "MAX DEPTH: 20 / # of EST: 500 -- A: 0.864 / P: 0.919 / R: 0.843\n"
     ]
    },
    {
     "data": {
      "text/html": [
       "<div>\n",
       "<style scoped>\n",
       "    .dataframe tbody tr th:only-of-type {\n",
       "        vertical-align: middle;\n",
       "    }\n",
       "\n",
       "    .dataframe tbody tr th {\n",
       "        vertical-align: top;\n",
       "    }\n",
       "\n",
       "    .dataframe thead th {\n",
       "        text-align: right;\n",
       "    }\n",
       "</style>\n",
       "<table border=\"1\" class=\"dataframe\">\n",
       "  <thead>\n",
       "    <tr style=\"text-align: right;\">\n",
       "      <th></th>\n",
       "      <th>max_depth</th>\n",
       "      <th>n_estimators</th>\n",
       "      <th>Accuracy</th>\n",
       "      <th>Precision</th>\n",
       "      <th>Recall</th>\n",
       "    </tr>\n",
       "  </thead>\n",
       "  <tbody>\n",
       "    <tr>\n",
       "      <th>0</th>\n",
       "      <td>10.0</td>\n",
       "      <td>500</td>\n",
       "      <td>0.870</td>\n",
       "      <td>0.920</td>\n",
       "      <td>0.852</td>\n",
       "    </tr>\n",
       "    <tr>\n",
       "      <th>1</th>\n",
       "      <td>NaN</td>\n",
       "      <td>500</td>\n",
       "      <td>0.864</td>\n",
       "      <td>0.919</td>\n",
       "      <td>0.843</td>\n",
       "    </tr>\n",
       "    <tr>\n",
       "      <th>2</th>\n",
       "      <td>20.0</td>\n",
       "      <td>500</td>\n",
       "      <td>0.864</td>\n",
       "      <td>0.919</td>\n",
       "      <td>0.843</td>\n",
       "    </tr>\n",
       "  </tbody>\n",
       "</table>\n",
       "</div>"
      ],
      "text/plain": [
       "   max_depth  n_estimators  Accuracy  Precision  Recall\n",
       "0       10.0           500     0.870      0.920   0.852\n",
       "1        NaN           500     0.864      0.919   0.843\n",
       "2       20.0           500     0.864      0.919   0.843"
      ]
     },
     "execution_count": 122,
     "metadata": {},
     "output_type": "execute_result"
    }
   ],
   "source": [
    "#Evaluate Model under Validation Set\n",
    "val_table = []\n",
    "for mdl in [rf1,rf2,rf3]:\n",
    "    y_pred = mdl.predict(val_features)\n",
    "    accuracy = round(accuracy_score(val_labels,y_pred),3)\n",
    "    precision = round(precision_score(val_labels,y_pred),3)\n",
    "    recall = round((recall_score(val_labels,y_pred)),3)\n",
    "    val_table.append([mdl.max_depth,mdl.n_estimators,accuracy,precision,recall])\n",
    "    \n",
    "    print('MAX DEPTH: {} / # of EST: {} -- A: {} / P: {} / R: {}'.format(mdl.max_depth, mdl.n_estimators, accuracy, precision, recall))\n",
    "\n",
    "val_DF = pd.DataFrame(data = val_table,columns = ['max_depth','n_estimators','Accuracy','Precision','Recall'])\n",
    "val_DF"
   ]
  },
  {
   "cell_type": "code",
   "execution_count": 123,
   "id": "118b7848",
   "metadata": {},
   "outputs": [
    {
     "name": "stdout",
     "output_type": "stream",
     "text": [
      "MAX DEPTH: 10 / # of EST: 500 -- A: 0.853 / P: 0.93 / R: 0.823\n"
     ]
    }
   ],
   "source": [
    "#Picked Model 1 for Test Data Set\n",
    "y_ts_pred = rf1.predict(ts_features)\n",
    "accuracy = round(accuracy_score(ts_labels,y_ts_pred),3)\n",
    "precision = round(precision_score(ts_labels,y_ts_pred),3)\n",
    "recall = round((recall_score(ts_labels,y_ts_pred)),3)\n",
    "print('MAX DEPTH: {} / # of EST: {} -- A: {} / P: {} / R: {}'.format(rf1.max_depth, rf1.n_estimators, accuracy, precision, recall))"
   ]
  },
  {
   "cell_type": "code",
   "execution_count": 126,
   "id": "829969c1",
   "metadata": {},
   "outputs": [
    {
     "data": {
      "image/png": "[encoded data removed]",
      "text/plain": [
       "<Figure size 432x288 with 1 Axes>"
      ]
     },
     "metadata": {
      "needs_background": "light"
     },
     "output_type": "display_data"
    }
   ],
   "source": [
    "importances = rf1.feature_importances_\n",
    "std = np.std([tree.feature_importances_ for tree in rf1.estimators_], axis=0)\n",
    "\n",
    "fig, ax = plt.subplots()\n",
    "ax.bar(ts_features.columns, importances,yerr=std)\n",
    "ax.set_title(\"Feature Importance for Random Forest Classifier Model in Predicting Heart Disease\")\n",
    "ax.set_ylabel(\"Feature Importance\")\n",
    "plt.xticks(rotation= 90)\n",
    "fig.tight_layout()"
   ]
  },
  {
   "cell_type": "code",
   "execution_count": 135,
   "id": "7ed1ec94",
   "metadata": {},
   "outputs": [
    {
     "name": "stdout",
     "output_type": "stream",
     "text": [
      "              precision    recall  f1-score   support\n",
      "\n",
      "           0       0.77      0.92      0.84        71\n",
      "           1       0.94      0.83      0.88       113\n",
      "\n",
      "    accuracy                           0.86       184\n",
      "   macro avg       0.86      0.87      0.86       184\n",
      "weighted avg       0.88      0.86      0.87       184\n",
      "\n"
     ]
    }
   ],
   "source": [
    "from sklearn.metrics import classification_report\n",
    "\n",
    "print(classification_report(ts_labels,y_ts_pred))"
   ]
  },
  {
   "cell_type": "code",
   "execution_count": 127,
   "id": "4fd396f0",
   "metadata": {},
   "outputs": [
    {
     "data": {
      "image/png": "[encoded data removed]",
      "text/plain": [
       "<Figure size 720x432 with 2 Axes>"
      ]
     },
     "metadata": {
      "needs_background": "light"
     },
     "output_type": "display_data"
    }
   ],
   "source": [
    "from sklearn.metrics import confusion_matrix\n",
    "from sklearn.metrics import plot_confusion_matrix\n",
    "\n",
    "named_ts_labels = ts_labels.HeartDisease.map({0:False,1:True})\n",
    "#print(named_ts_labels)\n",
    "\n",
    "confusion_matrix(ts_labels,y_ts_pred)\n",
    "matrix = plot_confusion_matrix(rf1,ts_features,named_ts_labels)\n",
    "matrix.ax_.set_title('Test Data Set - Confusion Matrix for Random Forest Classifier (max_depth = 10, n_estimators = 500)')\n",
    "plt.xlabel('Predicted Label')\n",
    "plt.ylabel('True Label')\n",
    "plt.gcf().set_size_inches(10,6)\n",
    "plt.show()"
   ]
  },
  {
   "cell_type": "code",
   "execution_count": 128,
   "id": "df5df35d",
   "metadata": {},
   "outputs": [
    {
     "data": {
      "image/png": "[encoded data removed]",
      "text/plain": [
       "<Figure size 720x432 with 2 Axes>"
      ]
     },
     "metadata": {
      "needs_background": "light"
     },
     "output_type": "display_data"
    }
   ],
   "source": [
    "named_labels = heart.HeartDisease.map({0:False,1:True})\n",
    "confusion_matrix(ts_labels,y_ts_pred)\n",
    "matrix = plot_confusion_matrix(rf1,features,named_labels)\n",
    "matrix.ax_.set_title('Total Dataset - Confusion Matrix for Random Forest Classifier (max_depth = 10, n_estimators = 500)')\n",
    "plt.xlabel('Predicted Label')\n",
    "plt.ylabel('True Label')\n",
    "plt.gcf().set_size_inches(10,6)\n",
    "plt.show()"
   ]
  }
 ],
 "metadata": {
  "kernelspec": {
   "display_name": "Python 3",
   "language": "python",
   "name": "python3"
  },
  "language_info": {
   "codemirror_mode": {
    "name": "ipython",
    "version": 3
   },
   "file_extension": ".py",
   "mimetype": "text/x-python",
   "name": "python",
   "nbconvert_exporter": "python",
   "pygments_lexer": "ipython3",
   "version": "3.8.8"
  }
 },
 "nbformat": 4,
 "nbformat_minor": 5
}
